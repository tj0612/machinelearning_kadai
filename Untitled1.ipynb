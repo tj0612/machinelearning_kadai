{
 "cells": [
  {
   "cell_type": "code",
   "execution_count": 78,
   "metadata": {
    "collapsed": true
   },
   "outputs": [],
   "source": [
    "import pandas as pd\n",
    "import numpy as np\n",
    "import math\n",
    "from sklearn.svm import SVC\n",
    "from sklearn.linear_model import LogisticRegressionCV\n",
    "from sklearn.ensemble import RandomForestClassifier\n",
    "from sklearn.model_selection import train_test_split\n",
    "from sklearn.model_selection import GridSearchCV\n",
    "from sklearn import metrics\n",
    "import matplotlib.pyplot as plt\n",
    "\n",
    "from sklearn.metrics import precision_recall_curve"
   ]
  },
  {
   "cell_type": "code",
   "execution_count": 41,
   "metadata": {},
   "outputs": [],
   "source": [
    "data = pd.read_csv(\"train.csv\")\n",
    "\n",
    "x.fillna(x.mean())\n",
    "\n",
    "x=data.iloc[:,2:]\n",
    "x=x.drop(\"Name\",axis=1)\n",
    "x=x.drop(\"Ticket\",axis=1)\n",
    "y=data[\"Survived\"]\n",
    "\n",
    "x[\"Cabin\"]=x[\"Cabin\"].map(lambda item: 1 if item==item else 0)\n",
    "x[\"Sex\"]=x[\"Sex\"].map(lambda item: 1 if item==\"male\" else 0)\n",
    "\n",
    "dummy_df = pd.get_dummies(x[\"Embarked\"], drop_first = True)\n",
    "x=x.drop(\"Embarked\",axis=1)\n",
    "x=pd.concat([x,dummy_df],axis=1)\n",
    "\n",
    "x=x.fillna(x.mean())"
   ]
  },
  {
   "cell_type": "code",
   "execution_count": 42,
   "metadata": {
    "collapsed": true
   },
   "outputs": [],
   "source": [
    "x_train,x_test,y_train,y_test=train_test_split(x,y,test_size=0.2,random_state=42)"
   ]
  },
  {
   "cell_type": "code",
   "execution_count": 43,
   "metadata": {},
   "outputs": [
    {
     "data": {
      "text/plain": [
       "LogisticRegressionCV(Cs=[0.01, 0.1, 1, 10], class_weight=None, cv=10,\n",
       "           dual=False, fit_intercept=True, intercept_scaling=1.0,\n",
       "           max_iter=100, multi_class='ovr', n_jobs=1, penalty='l2',\n",
       "           random_state=1, refit=True, scoring='roc_auc', solver='lbfgs',\n",
       "           tol=0.0001, verbose=0)"
      ]
     },
     "execution_count": 43,
     "metadata": {},
     "output_type": "execute_result"
    }
   ],
   "source": [
    "logistic_model=LogisticRegressionCV(Cs=[0.01,0.1,1,10],cv=10,random_state=1,scoring=\"roc_auc\")\n",
    "logistic_model.fit(x_train,y_train)"
   ]
  },
  {
   "cell_type": "code",
   "execution_count": 69,
   "metadata": {},
   "outputs": [
    {
     "data": {
      "text/plain": [
       "RandomForestClassifier(bootstrap=True, class_weight=None, criterion='gini',\n",
       "            max_depth=None, max_features='auto', max_leaf_nodes=None,\n",
       "            min_impurity_split=1e-07, min_samples_leaf=1,\n",
       "            min_samples_split=2, min_weight_fraction_leaf=0.0,\n",
       "            n_estimators=50, n_jobs=1, oob_score=False, random_state=None,\n",
       "            verbose=0, warm_start=False)"
      ]
     },
     "execution_count": 69,
     "metadata": {},
     "output_type": "execute_result"
    }
   ],
   "source": [
    "randomforest_model=RandomForestClassifier(n_estimators=50)\n",
    "randomforest_model.fit(x_train,y_train)"
   ]
  },
  {
   "cell_type": "code",
   "execution_count": 70,
   "metadata": {},
   "outputs": [
    {
     "data": {
      "text/plain": [
       "GridSearchCV(cv=10, error_score='raise',\n",
       "       estimator=SVC(C=1.0, cache_size=200, class_weight=None, coef0=0.0,\n",
       "  decision_function_shape=None, degree=3, gamma='auto', kernel='rbf',\n",
       "  max_iter=-1, probability=True, random_state=None, shrinking=True,\n",
       "  tol=0.001, verbose=False),\n",
       "       fit_params={}, iid=True, n_jobs=1,\n",
       "       param_grid={'C': [0.01, 0.1, 1, 10, 100], 'gamma': [0.001, 0.01, 0.1]},\n",
       "       pre_dispatch='2*n_jobs', refit=True, return_train_score=True,\n",
       "       scoring='roc_auc', verbose=0)"
      ]
     },
     "execution_count": 70,
     "metadata": {},
     "output_type": "execute_result"
    }
   ],
   "source": [
    "params={\"C\": [0.01,0.1,1,10,100], \"gamma\":[0.001,0.01,0.1]}\n",
    "svm_model=GridSearchCV(SVC(kernel=\"rbf\",probability=True),params,cv=10,scoring=\"roc_auc\")\n",
    "svm_model.fit(x_train,y_train)"
   ]
  },
  {
   "cell_type": "code",
   "execution_count": 71,
   "metadata": {},
   "outputs": [
    {
     "data": {
      "text/plain": [
       "{'C': 100, 'gamma': 0.001}"
      ]
     },
     "execution_count": 71,
     "metadata": {},
     "output_type": "execute_result"
    }
   ],
   "source": [
    "svm_model.best_params_"
   ]
  },
  {
   "cell_type": "code",
   "execution_count": 98,
   "metadata": {},
   "outputs": [
    {
     "data": {
      "image/png": "[encoded data removed]",
      "text/plain": [
       "<matplotlib.figure.Figure at 0x1025005c0>"
      ]
     },
     "metadata": {},
     "output_type": "display_data"
    }
   ],
   "source": [
    "fpr=dict()\n",
    "tpr=dict()\n",
    "auc=dict()\n",
    "\n",
    "\n",
    "fpr[0], tpr[0], _= metrics.roc_curve(y_test, logistic_model.predict_proba(x_test)[:,1])\n",
    "fpr[1], tpr[1], _= metrics.roc_curve(y_test, randomforest_model.predict_proba(x_test)[:,1])\n",
    "fpr[2], tpr[2], _= metrics.roc_curve(y_test, svm_model.predict_proba(x_test)[:,1])\n",
    "\n",
    "for i in range(3):\n",
    "    auc[i] = metrics.auc(fpr[i], tpr[i])\n",
    "\n",
    "plt.plot(fpr[0], tpr[0], label='ROC curve (area = %.2f) (logistic)'%auc[0])\n",
    "plt.plot(fpr[1], tpr[1], label='ROC curve (area = %.2f) (RF)'%auc[1])\n",
    "plt.plot(fpr[2], tpr[2], label='ROC curve (area = %.2f) (SVM)'%auc[2])\n",
    "plt.legend()\n",
    "plt.title('ROC curve')\n",
    "plt.xlabel('False Positive Rate')\n",
    "plt.ylabel('True Positive Rate')\n",
    "plt.grid(True)\n",
    "plt.savefig(\"roc_curve.pdf\")\n",
    "plt.show()"
   ]
  },
  {
   "cell_type": "code",
   "execution_count": 103,
   "metadata": {},
   "outputs": [
    {
     "data": {
      "image/png": "[encoded data removed]",
      "text/plain": [
       "<matplotlib.figure.Figure at 0x1110686a0>"
      ]
     },
     "metadata": {},
     "output_type": "display_data"
    }
   ],
   "source": [
    "precision=dict()\n",
    "recall=dict()\n",
    "#auc=dict()\n",
    "\n",
    "\n",
    "precision[0], recall[0], _= precision_recall_curve(y_test, logistic_model.predict_proba(x_test)[:,1])\n",
    "precision[1], recall[1], _= precision_recall_curve(y_test, randomforest_model.predict_proba(x_test)[:,1])\n",
    "precision[2], recall[2], _= precision_recall_curve(y_test, svm_model.predict_proba(x_test)[:,1])\n",
    "\n",
    "plt.plot(recall[0], precision[0], label='PR curve (logistic)')\n",
    "plt.plot(recall[1], precision[1], label='PR curve (RF)')\n",
    "plt.plot(recall[2], precision[2], label='PR curve (SVM)')\n",
    "plt.legend()\n",
    "plt.title('PR curve')\n",
    "plt.xlabel('Recall')\n",
    "plt.ylabel('Precision')\n",
    "plt.grid(True)\n",
    "plt.savefig(\"pr_curve.pdf\")\n",
    "plt.show()"
   ]
  },
  {
   "cell_type": "code",
   "execution_count": 106,
   "metadata": {},
   "outputs": [
    {
     "name": "stdout",
     "output_type": "stream",
     "text": [
      "MCC (logistic): 0.63\n",
      "MCC (RF): 0.59\n",
      "MCC (SVM): 0.58\n"
     ]
    }
   ],
   "source": [
    "print(\"MCC (logistic): %0.02f\"%metrics.matthews_corrcoef(y_test,logistic_model.predict(x_test)))\n",
    "print(\"MCC (RF): %0.02f\"%metrics.matthews_corrcoef(y_test,randomforest_model.predict(x_test)))\n",
    "print(\"MCC (SVM): %0.02f\"%metrics.matthews_corrcoef(y_test,svm_model.predict(x_test)))"
   ]
  },
  {
   "cell_type": "code",
   "execution_count": null,
   "metadata": {
    "collapsed": true
   },
   "outputs": [],
   "source": []
  }
 ],
 "metadata": {
  "kernelspec": {
   "display_name": "Python 3",
   "language": "python",
   "name": "python3"
  },
  "language_info": {
   "codemirror_mode": {
    "name": "ipython",
    "version": 3
   },
   "file_extension": ".py",
   "mimetype": "text/x-python",
   "name": "python",
   "nbconvert_exporter": "python",
   "pygments_lexer": "ipython3",
   "version": "3.6.1"
  }
 },
 "nbformat": 4,
 "nbformat_minor": 2
}
